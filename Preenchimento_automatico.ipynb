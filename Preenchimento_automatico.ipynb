{
 "cells": [
  {
   "cell_type": "code",
   "execution_count": 9,
   "id": "abe47244",
   "metadata": {},
   "outputs": [],
   "source": [
    "import pyautogui\n",
    "import pandas as pd\n",
    "arquivo = pd.read_csv('C:/Users/User/Downloads/Controle_Saida - Destino.csv',dtype=str)"
   ]
  },
  {
   "cell_type": "code",
   "execution_count": 10,
   "id": "ef5faad2",
   "metadata": {},
   "outputs": [
    {
     "data": {
      "text/html": [
       "<div>\n",
       "<style scoped>\n",
       "    .dataframe tbody tr th:only-of-type {\n",
       "        vertical-align: middle;\n",
       "    }\n",
       "\n",
       "    .dataframe tbody tr th {\n",
       "        vertical-align: top;\n",
       "    }\n",
       "\n",
       "    .dataframe thead th {\n",
       "        text-align: right;\n",
       "    }\n",
       "</style>\n",
       "<table border=\"1\" class=\"dataframe\">\n",
       "  <thead>\n",
       "    <tr style=\"text-align: right;\">\n",
       "      <th></th>\n",
       "      <th>C Custo</th>\n",
       "      <th>Bem</th>\n",
       "    </tr>\n",
       "  </thead>\n",
       "  <tbody>\n",
       "    <tr>\n",
       "      <th>0</th>\n",
       "      <td>201040001</td>\n",
       "      <td>HAV8E08</td>\n",
       "    </tr>\n",
       "    <tr>\n",
       "      <th>1</th>\n",
       "      <td>201040002</td>\n",
       "      <td>HFD7157</td>\n",
       "    </tr>\n",
       "    <tr>\n",
       "      <th>2</th>\n",
       "      <td>201040003</td>\n",
       "      <td>HFD7347</td>\n",
       "    </tr>\n",
       "    <tr>\n",
       "      <th>3</th>\n",
       "      <td>201040004</td>\n",
       "      <td>HFD7585</td>\n",
       "    </tr>\n",
       "    <tr>\n",
       "      <th>4</th>\n",
       "      <td>201040005</td>\n",
       "      <td>HFD7650</td>\n",
       "    </tr>\n",
       "  </tbody>\n",
       "</table>\n",
       "</div>"
      ],
      "text/plain": [
       "     C Custo      Bem\n",
       "0  201040001  HAV8E08\n",
       "1  201040002  HFD7157\n",
       "2  201040003  HFD7347\n",
       "3  201040004  HFD7585\n",
       "4  201040005  HFD7650"
      ]
     },
     "execution_count": 10,
     "metadata": {},
     "output_type": "execute_result"
    }
   ],
   "source": [
    "arquivo.head()"
   ]
  },
  {
   "cell_type": "code",
   "execution_count": 11,
   "id": "7bd7f7c3",
   "metadata": {},
   "outputs": [],
   "source": [
    "pyautogui.alert(\"O código vai começar. Não mexa no PC\")\n",
    "pyautogui.hotkey('win','r')\n",
    "pyautogui.write('chrome')\n",
    "pyautogui.press('enter')\n",
    "pyautogui.sleep(0.5)\n",
    "pyautogui.write('https://docs.google.com/spreadsheets/d/10fbJuVSR-_8DIjuQRFup0PNvB_01hC5Mo8v8-umjJFY/edit#gid=0')\n",
    "pyautogui.press('enter')\n",
    "pyautogui.sleep(1)\n",
    "for i in range(20):\n",
    "    pyautogui.sleep(1)\n",
    "    pyautogui.typewrite(str(arquivo[\"C Custo\"][i]))\n",
    "    pyautogui.press('right')\n",
    "    # Se a coluna não for do tipo texto deve converter a coluna em STRING(STR)\n",
    "    pyautogui.typewrite(str(arquivo[\"Bem\"][i]))\n",
    "    pyautogui.press('right')\n",
    "    pyautogui.press('down')\n",
    "    pyautogui.hotkey('ctrl','left')"
   ]
  },
  {
   "cell_type": "code",
   "execution_count": null,
   "id": "729fe03d",
   "metadata": {},
   "outputs": [],
   "source": []
  }
 ],
 "metadata": {
  "kernelspec": {
   "display_name": "Python 3 (ipykernel)",
   "language": "python",
   "name": "python3"
  },
  "language_info": {
   "codemirror_mode": {
    "name": "ipython",
    "version": 3
   },
   "file_extension": ".py",
   "mimetype": "text/x-python",
   "name": "python",
   "nbconvert_exporter": "python",
   "pygments_lexer": "ipython3",
   "version": "3.11.4"
  }
 },
 "nbformat": 4,
 "nbformat_minor": 5
}
